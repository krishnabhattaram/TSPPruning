{
 "cells": [
  {
   "cell_type": "markdown",
   "metadata": {},
   "source": [
    "## Build Features and Labels\n",
    "1. Add problem instances (files with extension `.tsp`) into `tsplib-data/problems/` from one of these sources:\n",
    "\t1. To get it from TSPLIB, download a problem instance (file with extension `.tsp.gz`) from [TSPLIB95's symmetric TSP list](http://comopt.ifi.uni-heidelberg.de/software/TSPLIB95/tsp/). Then extract the `.tsp` file.\n",
    "\t2. Copy one from `tsplib-data/problems-special/`.\n",
    "2. If you want to build labels as well, and you want to use precomputed solutions to skip solving time, add solutions (files with extension `.opt.tour`) into `tsplib-data/solutions` from one of these sources:\n",
    "\t1. Similarly, you can download one from the same source as above. Some of the tour files have all the indices in the `TOUR_SECTION` on the same line, which may cause an error. To fix this, place each index on a new line.\n",
    "\t2. Copy one from `tsplib-data/solutions-special/`.\n",
    "3. Choose desired features from the [features list](../README.md#Features)."
   ]
  },
  {
   "cell_type": "markdown",
   "metadata": {},
   "source": [
    "**Config**\n",
    "\n",
    "List the **short names** of each edge feature you want to extract in `DESIRED_EDGE_FEATURES` in `common.py`."
   ]
  },
  {
   "cell_type": "code",
   "execution_count": 1,
   "metadata": {},
   "outputs": [
    {
     "name": "stdout",
     "output_type": "stream",
     "text": [
      "Building data directories...\n",
      "Directory already exists: /Users/dtong/dev/TSPPruning/tsplib-data/problems\n",
      "Directory already exists: /Users/dtong/dev/TSPPruning/tsplib-data/solutions\n",
      "Created directory: /Users/dtong/dev/TSPPruning/tsplib-data/training\n"
     ]
    }
   ],
   "source": [
    "from common import *\n",
    "build_directories_if_needed()\n",
    "\n",
    "# Uses fg weights of 1/iteration (1-indexed) instead of iteration/k\n",
    "USE_PAPER_FG = True\n",
    "\n",
    "# Even if the features already exist, overwrite them\n",
    "OVERRIDE_FEATURES = True\n",
    "\n",
    "# Builds the ground truth labels directory (tsplib-data/npy/solutions/) along with the features directories\n",
    "BUILD_LABELS = True\n",
    "\n",
    "# Choose the layout function for arranging nodes in the visualizations\n",
    "# Recommended choices: nx.spiral_layout, nx.spring_layout\n",
    "import networkx as nx\n",
    "DEFAULT_VIZ_LAYOUT = nx.spiral_layout\n",
    "\n",
    "# Maximum number of problems to visualize (we recommend setting this low to avoid cluttering the notebook)\n",
    "MAX_VISUALIZATIONS = 1"
   ]
  },
  {
   "cell_type": "markdown",
   "metadata": {},
   "source": [
    "Imports and Utility functions"
   ]
  },
  {
   "cell_type": "code",
   "execution_count": 2,
   "metadata": {},
   "outputs": [],
   "source": [
    "from optlearn.data.data_utils import dataLoader\n",
    "loader = dataLoader([])\n",
    "\n",
    "import numpy as np\n",
    "np.set_printoptions(linewidth=np.inf)"
   ]
  },
  {
   "cell_type": "markdown",
   "metadata": {},
   "source": [
    "Clear output directory to recompute all features and labels from scratch (optional)"
   ]
  },
  {
   "cell_type": "code",
   "execution_count": 3,
   "metadata": {},
   "outputs": [
    {
     "name": "stdout",
     "output_type": "stream",
     "text": [
      "Cleared\n"
     ]
    }
   ],
   "source": [
    "clear_directory(TRAINING_PATH)"
   ]
  },
  {
   "cell_type": "markdown",
   "metadata": {},
   "source": [
    "Plotting utilities (required for plots)"
   ]
  },
  {
   "cell_type": "code",
   "execution_count": 4,
   "metadata": {},
   "outputs": [],
   "source": [
    "from optlearn.graph_utils import get_edges, get_weights\n",
    "from optlearn.io_utils import optObject\n",
    "\n",
    "import matplotlib.pyplot as plt\n",
    "\n",
    "from optlearn.plotting import get_x_y_lists\n",
    "\n",
    "PYPLOT_W, PYPLOT_H = 4, 4 # in inches\n",
    "ARC_RADIUS = 0.15\n",
    "\n",
    "class TSPPlotData:\n",
    "\tdef __init__(self, problem: optObject, problem_name: str):\n",
    "\t\tG = problem.get_graph()\n",
    "\t\tself.G = G\n",
    "\t\tself.edges = get_edges(G)\n",
    "\t\tcoords = problem.get_keyword_dict()['NODE_COORD_SECTION']\n",
    "\t\tself.has_real_coords = coords != None\n",
    "\t\tself.pos = coords or DEFAULT_VIZ_LAYOUT(G)\n",
    "\t\tself.weights = get_weights(G)\n",
    "\t\tself.problem_name = problem_name\n",
    "\t\n",
    "\tdef plot(self, edge_values_list, ax=None, use_alpha=False):\n",
    "\t\tnx.draw_networkx_nodes(self.G, self.pos, ax=ax)\n",
    "\t\tnx.draw_networkx_labels(self.G, self.pos, font_size=10, font_color='w', ax=ax)\n",
    "\t\tconnectionstyle = 'arc3' + (f',rad={ARC_RADIUS}' if self.G.is_directed() else '')\n",
    "\t\tnx.draw_networkx_edges(\n",
    "\t\t\tself.G,\n",
    "\t\t\tself.pos,\n",
    "\t\t\tedge_color=('black' if use_alpha else 'grey'),\n",
    "\t\t\tax=ax,\n",
    "\t\t\talpha=(edge_values_list.clip(0, 1) if use_alpha else 1),\n",
    "\t\t\tconnectionstyle=connectionstyle\n",
    "\t\t)\n",
    "\t\tif not use_alpha:\n",
    "\t\t\tedge_labels = {}\n",
    "\t\t\tfor edge_idx, edge in enumerate(self.edges):\n",
    "\t\t\t\tedge_labels[edge] = round(edge_values_list[edge_idx], 3)\n",
    "\t\t\tnx.draw_networkx_edge_labels(\n",
    "\t\t\t\tself.G,\n",
    "\t\t\t\tself.pos,\n",
    "\t\t\t\tedge_labels,\n",
    "\t\t\t\tlabel_pos=(0.3 if self.G.is_directed() else 0.5),\n",
    "\t\t\t\tbbox={\"alpha\": 0},\n",
    "\t\t\t\tax=ax,\n",
    "\t\t\t\tconnectionstyle=connectionstyle\n",
    "\t\t\t)\n",
    "\t\n",
    "\tdef __str__(self):\n",
    "\t\tcoord_description = ('Cartesian' if self.has_real_coords else 'arbitrary') + ' coordinates'\n",
    "\t\treturn f'({self.problem_name}, {coord_description})'\n",
    "\n",
    "plot_cache: dict[str, TSPPlotData] = {}"
   ]
  },
  {
   "cell_type": "markdown",
   "metadata": {},
   "source": [
    "Load Problems (required for pretty-printing/plots)"
   ]
  },
  {
   "cell_type": "code",
   "execution_count": 6,
   "metadata": {},
   "outputs": [
    {
     "name": "stdout",
     "output_type": "stream",
     "text": [
      "Loaded 1000 problems\n"
     ]
    }
   ],
   "source": [
    "num_problems_loaded = 0\n",
    "for problem_file_name in os.listdir(PROBLEMS_PATH):\n",
    "\tproblem_name = problem_file_name.removesuffix('.tsp')\n",
    "\tproblem_file_path = os.path.join(PROBLEMS_PATH, problem_file_name)\n",
    "\t# Returns graph with N(N - 1) edges (all directed edges besides loops)\n",
    "\tproblem = optObject().read_problem_from_file(problem_file_path)\n",
    "\tplot_cache[problem_name] = TSPPlotData(problem, problem_name)\n",
    "\tnum_problems_loaded += 1\n",
    "print(f'Loaded {num_problems_loaded} problems')"
   ]
  },
  {
   "cell_type": "markdown",
   "metadata": {},
   "source": [
    "Plot problems (optional)"
   ]
  },
  {
   "cell_type": "code",
   "execution_count": 17,
   "metadata": {},
   "outputs": [
    {
     "name": "stdout",
     "output_type": "stream",
     "text": [
      "Aborting visualization: too many problems\n"
     ]
    }
   ],
   "source": [
    "if len(plot_cache) > MAX_VISUALIZATIONS:\n",
    "\tprint('Aborting visualization: too many problems')\n",
    "else:\n",
    "\tfor problem_name, plot_data in plot_cache.items():\n",
    "\t\tplot_data.plot(plot_data.weights)\n",
    "\t\tplt.title(f'Weights\\n{plot_data}')\n",
    "\t\tplt.rcParams[\"figure.figsize\"] = (PYPLOT_W, PYPLOT_H)\n",
    "\t\tplt.show()"
   ]
  },
  {
   "cell_type": "markdown",
   "metadata": {
    "tags": [
     "Build Features"
    ]
   },
   "source": [
    "Build features (and labels if enabled)"
   ]
  },
  {
   "cell_type": "code",
   "execution_count": 7,
   "metadata": {},
   "outputs": [
    {
     "name": "stdout",
     "output_type": "stream",
     "text": [
      "\n",
      "Status:\n",
      "Directory Status: Checked/Built\n",
      "\n",
      "\n"
     ]
    },
    {
     "ename": "KeyError",
     "evalue": "'compute_feature_dirs_edges'",
     "output_type": "error",
     "traceback": [
      "\u001b[0;31m---------------------------------------------------------------------------\u001b[0m",
      "\u001b[0;31mKeyError\u001b[0m                                  Traceback (most recent call last)",
      "Cell \u001b[0;32mIn[7], line 16\u001b[0m\n\u001b[1;32m     14\u001b[0m \t\t\u001b[38;5;28mprint\u001b[39m(\u001b[38;5;124m'\u001b[39m\u001b[38;5;124mAborted\u001b[39m\u001b[38;5;124m'\u001b[39m)\n\u001b[1;32m     15\u001b[0m \u001b[38;5;28;01mif\u001b[39;00m proceed:\n\u001b[0;32m---> 16\u001b[0m \t\u001b[43mbuild_features\u001b[49m\u001b[43m(\u001b[49m\n\u001b[1;32m     17\u001b[0m \u001b[43m\t\t\u001b[49m\u001b[43mTRAINING_PATH\u001b[49m\u001b[43m,\u001b[49m\n\u001b[1;32m     18\u001b[0m \u001b[43m\t\t\u001b[49m\u001b[43mPROBLEMS_PATH\u001b[49m\u001b[43m,\u001b[49m\n\u001b[1;32m     19\u001b[0m \u001b[43m\t\t\u001b[49m\u001b[43mDESIRED_EDGE_FEATURES\u001b[49m\u001b[43m,\u001b[49m\n\u001b[1;32m     20\u001b[0m \u001b[43m\t\t\u001b[49m\u001b[43moverride\u001b[49m\u001b[38;5;241;43m=\u001b[39;49m\u001b[43mOVERRIDE_FEATURES\u001b[49m\u001b[43m,\u001b[49m\n\u001b[1;32m     21\u001b[0m \u001b[43m\t\t\u001b[49m\u001b[43msolution_dir\u001b[49m\u001b[38;5;241;43m=\u001b[39;49m\u001b[43mSOLUTIONS_PATH\u001b[49m\n\u001b[1;32m     22\u001b[0m \u001b[43m\t\u001b[49m\u001b[43m)\u001b[49m\n",
      "File \u001b[0;32m~/dev/TSPPruning/optlearn/experiments/build_data.py:42\u001b[0m, in \u001b[0;36mbuild_features\u001b[0;34m(numpy_dir, problem_dir, features, override, solution_dir)\u001b[0m\n\u001b[1;32m     32\u001b[0m features \u001b[38;5;241m=\u001b[39m [\u001b[38;5;124m\"\u001b[39m\u001b[38;5;124mcompute_\u001b[39m\u001b[38;5;132;01m{}\u001b[39;00m\u001b[38;5;124m_edges\u001b[39m\u001b[38;5;124m\"\u001b[39m\u001b[38;5;241m.\u001b[39mformat(item) \u001b[38;5;28;01mfor\u001b[39;00m item \u001b[38;5;129;01min\u001b[39;00m features]\n\u001b[1;32m     35\u001b[0m builder \u001b[38;5;241m=\u001b[39m data_utils\u001b[38;5;241m.\u001b[39mcreateTrainingFeatures(\n\u001b[1;32m     36\u001b[0m     numpy_dir,\n\u001b[1;32m     37\u001b[0m     features,\n\u001b[0;32m   (...)\u001b[0m\n\u001b[1;32m     40\u001b[0m     verbose\u001b[38;5;241m=\u001b[39m\u001b[38;5;28;01mTrue\u001b[39;00m\n\u001b[1;32m     41\u001b[0m )\n\u001b[0;32m---> 42\u001b[0m \u001b[43mbuilder\u001b[49m\u001b[38;5;241;43m.\u001b[39;49m\u001b[43mdata_create\u001b[49m\u001b[43m(\u001b[49m\u001b[43m)\u001b[49m\n\u001b[1;32m     44\u001b[0m \u001b[38;5;28mprint\u001b[39m(\u001b[38;5;124m\"\u001b[39m\u001b[38;5;124mDone! :D\u001b[39m\u001b[38;5;124m\"\u001b[39m)\n",
      "File \u001b[0;32m~/dev/TSPPruning/optlearn/data/data_utils.py:267\u001b[0m, in \u001b[0;36mcreateTrainingFeatures.data_create\u001b[0;34m(self)\u001b[0m\n\u001b[1;32m    265\u001b[0m \u001b[38;5;28;01mfor\u001b[39;00m num, name \u001b[38;5;129;01min\u001b[39;00m \u001b[38;5;28menumerate\u001b[39m(\u001b[38;5;28mself\u001b[39m\u001b[38;5;241m.\u001b[39m_problem_dict\u001b[38;5;241m.\u001b[39mkeys()):\n\u001b[1;32m    266\u001b[0m     \u001b[38;5;28mself\u001b[39m\u001b[38;5;241m.\u001b[39m_tracker[\u001b[38;5;124m\"\u001b[39m\u001b[38;5;124mCurrent Problem\u001b[39m\u001b[38;5;124m\"\u001b[39m] \u001b[38;5;241m=\u001b[39m \u001b[38;5;124m\"\u001b[39m\u001b[38;5;132;01m{}\u001b[39;00m\u001b[38;5;124m\"\u001b[39m\u001b[38;5;241m.\u001b[39mformat(name)\n\u001b[0;32m--> 267\u001b[0m     \u001b[38;5;28;43mself\u001b[39;49m\u001b[38;5;241;43m.\u001b[39;49m\u001b[43mdata_steps\u001b[49m\u001b[43m(\u001b[49m\u001b[43mname\u001b[49m\u001b[43m)\u001b[49m\n\u001b[1;32m    268\u001b[0m     \u001b[38;5;28;01mif\u001b[39;00m \u001b[38;5;28mself\u001b[39m\u001b[38;5;241m.\u001b[39mverbose:\n\u001b[1;32m    269\u001b[0m         length \u001b[38;5;241m=\u001b[39m \u001b[38;5;28mlen\u001b[39m(\u001b[38;5;28mself\u001b[39m\u001b[38;5;241m.\u001b[39m_problem_dict\u001b[38;5;241m.\u001b[39mkeys())\n",
      "File \u001b[0;32m~/dev/TSPPruning/optlearn/data/data_utils.py:253\u001b[0m, in \u001b[0;36mcreateTrainingFeatures.data_steps\u001b[0;34m(self, name)\u001b[0m\n\u001b[1;32m    251\u001b[0m     namestem \u001b[38;5;241m=\u001b[39m get_name_stem(name)\n\u001b[1;32m    252\u001b[0m     filename \u001b[38;5;241m=\u001b[39m \u001b[38;5;28mself\u001b[39m\u001b[38;5;241m.\u001b[39mbuild_filename(function_name, namestem)\n\u001b[0;32m--> 253\u001b[0m     \u001b[38;5;28;43mself\u001b[39;49m\u001b[38;5;241;43m.\u001b[39;49m\u001b[43mfeature_step\u001b[49m\u001b[43m(\u001b[49m\u001b[43mfunction_name\u001b[49m\u001b[43m,\u001b[49m\u001b[43m \u001b[49m\u001b[43mproblem_fname\u001b[49m\u001b[43m,\u001b[49m\u001b[43m \u001b[49m\u001b[43mfilename\u001b[49m\u001b[43m)\u001b[49m\n\u001b[1;32m    254\u001b[0m     \u001b[38;5;28mself\u001b[39m\u001b[38;5;241m.\u001b[39m_check_dict[name][\u001b[38;5;124m\"\u001b[39m\u001b[38;5;124mproblem\u001b[39m\u001b[38;5;124m\"\u001b[39m] \u001b[38;5;241m=\u001b[39m \u001b[38;5;28;01mTrue\u001b[39;00m\n\u001b[1;32m    255\u001b[0m \u001b[38;5;28;01mif\u001b[39;00m build_labels:\n",
      "File \u001b[0;32m~/dev/TSPPruning/optlearn/data/data_utils.py:232\u001b[0m, in \u001b[0;36mcreateTrainingFeatures.feature_step\u001b[0;34m(self, function_name, problem_fname, filename)\u001b[0m\n\u001b[1;32m    229\u001b[0m \u001b[38;5;250m\u001b[39m\u001b[38;5;124;03m\"\"\" Build the given feature for the given problem \"\"\"\u001b[39;00m\n\u001b[1;32m    231\u001b[0m \u001b[38;5;28mself\u001b[39m\u001b[38;5;241m.\u001b[39mload_object(problem_fname)\n\u001b[0;32m--> 232\u001b[0m data \u001b[38;5;241m=\u001b[39m \u001b[43mfeatures\u001b[49m\u001b[38;5;241;43m.\u001b[39;49m\u001b[43mfunctions\u001b[49m\u001b[43m[\u001b[49m\u001b[43mfunction_name\u001b[49m\u001b[43m]\u001b[49m(\u001b[38;5;28mself\u001b[39m\u001b[38;5;241m.\u001b[39m_graph)\n\u001b[1;32m    234\u001b[0m \u001b[38;5;28;01mif\u001b[39;00m \u001b[38;5;129;01mnot\u001b[39;00m \u001b[38;5;28mself\u001b[39m\u001b[38;5;241m.\u001b[39mcheck_file_with_overrides(filename):\n\u001b[1;32m    235\u001b[0m     \u001b[38;5;28mself\u001b[39m\u001b[38;5;241m.\u001b[39mwrite_to_npy(filename, data)\n",
      "\u001b[0;31mKeyError\u001b[0m: 'compute_feature_dirs_edges'"
     ]
    }
   ],
   "source": [
    "import optlearn.mst.mst_model\n",
    "optlearn.mst.mst_model.use_paper_fg = USE_PAPER_FG\n",
    "\n",
    "import optlearn.data.data_utils\n",
    "optlearn.data.data_utils.build_labels = BUILD_LABELS\n",
    "\n",
    "import numpy as np\n",
    "np.set_printoptions(linewidth=np.inf)\n",
    "\n",
    "from optlearn.experiments.build_data import build_features\n",
    "proceed = True\n",
    "if OVERRIDE_FEATURES:\n",
    "\tif input('Proceed to build features and labels? This will overwrite any redundant directories. (y/n) ').lower() != 'y':\n",
    "\t\tprint('Aborted')\n",
    "if proceed:\n",
    "\tbuild_features(\n",
    "\t\tTRAINING_PATH,\n",
    "\t\tPROBLEMS_PATH,\n",
    "\t\tDESIRED_EDGE_FEATURES,\n",
    "\t\toverride=OVERRIDE_FEATURES,\n",
    "\t\tsolution_dir=SOLUTIONS_PATH\n",
    "\t)"
   ]
  },
  {
   "cell_type": "markdown",
   "metadata": {},
   "source": [
    "Load features (required for pretty-printing/plotting)"
   ]
  },
  {
   "cell_type": "code",
   "execution_count": null,
   "metadata": {},
   "outputs": [
    {
     "name": "stdout",
     "output_type": "stream",
     "text": [
      "Aborting visualization: too many problems\n"
     ]
    }
   ],
   "source": [
    "if len(plot_cache) > MAX_VISUALIZATIONS:\n",
    "\tprint('Aborting visualization: too many problems')\n",
    "else:\n",
    "\tfor problem_name, plot_data in plot_cache.items():\n",
    "\t\tplot_data.features_data = loader.load_features([\n",
    "\t\t\tos.path.join(TRAINING_PATH, feature, problem_name + '.npy')\n",
    "\t\t\tfor feature in DESIRED_EDGE_FEATURES])"
   ]
  },
  {
   "cell_type": "markdown",
   "metadata": {},
   "source": [
    "Pretty-print features in a table (optional)"
   ]
  },
  {
   "cell_type": "code",
   "execution_count": 20,
   "metadata": {},
   "outputs": [
    {
     "name": "stdout",
     "output_type": "stream",
     "text": [
      "Aborting visualization: too many problems\n"
     ]
    }
   ],
   "source": [
    "from tabulate import tabulate\n",
    "if len(plot_cache) > MAX_VISUALIZATIONS:\n",
    "\tprint('Aborting visualization: too many problems')\n",
    "else:\n",
    "\tfor problem_name, plot_data in plot_cache.items():\n",
    "\t\tprint(f'{problem_name}:')\n",
    "\t\tprint(tabulate(\n",
    "\t\t\tplot_data.features_data,\n",
    "\t\t\theaders=DESIRED_EDGE_FEATURES,\n",
    "\t\t\tshowindex=enumerate(plot_data.edges)\n",
    "\t\t))"
   ]
  },
  {
   "cell_type": "markdown",
   "metadata": {},
   "source": [
    "Plot features (optional)"
   ]
  },
  {
   "cell_type": "code",
   "execution_count": 21,
   "metadata": {},
   "outputs": [
    {
     "name": "stdout",
     "output_type": "stream",
     "text": [
      "Aborting visualization: too many problems\n"
     ]
    }
   ],
   "source": [
    "if len(plot_cache) > MAX_VISUALIZATIONS:\n",
    "\tprint('Aborting visualization: too many problems')\n",
    "else:\n",
    "\tfor problem_name, plot_data in plot_cache.items():\n",
    "\t\t# Based on\n",
    "\t\t# https://networkx.org/documentation/latest/auto_examples/drawing/plot_multigraphs.html#sphx-glr-auto-examples-drawing-plot-multigraphs-py\n",
    "\t\tfig, ax = plt.subplots(len(DESIRED_EDGE_FEATURES), 2)\n",
    "\t\t# Standardizes ax as a 2D list\n",
    "\t\tif len(DESIRED_EDGE_FEATURES) == 1:\n",
    "\t\t\tax = [ax]\n",
    "\n",
    "\t\tfor feature_idx, feature in enumerate(DESIRED_EDGE_FEATURES):\n",
    "\t\t\tax_numeric: plt.Axes = ax[feature_idx][0]\n",
    "\t\t\tfeature_data = plot_data.features_data[:,feature_idx]\n",
    "\t\t\tplot_data.plot(feature_data, ax=ax_numeric)\n",
    "\t\t\tax_numeric.set_title(f'{feature} numeric\\n{plot_data}')\n",
    "\n",
    "\t\t\tax_alpha: plt.Axes = ax[feature_idx][1]\n",
    "\t\t\tplot_data.plot(feature_data, ax=ax_alpha, use_alpha=True)\n",
    "\t\t\tax_alpha.set_title(f'{feature} alpha\\n{plot_data}')\n",
    "\t\t\n",
    "\t\tfig.set_size_inches(PYPLOT_W * 2, PYPLOT_H * len(DESIRED_EDGE_FEATURES))\n",
    "\t\tplt.show()\n"
   ]
  },
  {
   "cell_type": "markdown",
   "metadata": {},
   "source": [
    "Load and plot computed optimal solutions (optional)"
   ]
  },
  {
   "cell_type": "code",
   "execution_count": null,
   "metadata": {},
   "outputs": [
    {
     "data": {
      "image/png": "[encoded data removed]",
      "text/plain": [
       "<Figure size 400x400 with 1 Axes>"
      ]
     },
     "metadata": {},
     "output_type": "display_data"
    }
   ],
   "source": [
    "if len(plot_cache) > MAX_VISUALIZATIONS:\n",
    "\tprint('Aborting visualization: too many problems')\n",
    "else:\n",
    "\tfor problem_name, plot_data in plot_cache.items():\n",
    "\t\tplot_data.labels = loader.load_labels(\n",
    "\t\t\tos.path.join(TRAINING_PATH, 'solutions', problem_name + '.npy'))\n",
    "\t\tplot_data.plot(plot_data.labels, use_alpha=True)\n",
    "\t\tplt.title(f'Optimal solution\\n{plot_data}')\n",
    "\t\tplt.rcParams[\"figure.figsize\"] = (PYPLOT_W, PYPLOT_H)\n",
    "\t\tplt.show()"
   ]
  }
 ],
 "metadata": {
  "kernelspec": {
   "display_name": "venv",
   "language": "python",
   "name": "python3"
  },
  "language_info": {
   "codemirror_mode": {
    "name": "ipython",
    "version": 3
   },
   "file_extension": ".py",
   "mimetype": "text/x-python",
   "name": "python",
   "nbconvert_exporter": "python",
   "pygments_lexer": "ipython3",
   "version": "3.10.7"
  }
 },
 "nbformat": 4,
 "nbformat_minor": 2
}
