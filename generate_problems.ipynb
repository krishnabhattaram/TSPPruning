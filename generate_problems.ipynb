{
 "cells": [
  {
   "cell_type": "markdown",
   "metadata": {},
   "source": [
    "## Generate Problems"
   ]
  },
  {
   "cell_type": "markdown",
   "metadata": {},
   "source": [
    "**Config**"
   ]
  },
  {
   "cell_type": "code",
   "execution_count": 10,
   "metadata": {},
   "outputs": [
    {
     "name": "stdout",
     "output_type": "stream",
     "text": [
      "Data directories\n",
      "(Output) Problems: /Users/dtong/dev/TSPPruning/tsplib-data/problems\n"
     ]
    }
   ],
   "source": [
    "from common import *\n",
    "\n",
    "print('Data directories')\n",
    "print('(Output) Problems:', PROBLEMS_PATH)\n",
    "\n",
    "NUM_PROBLEMS = 1000\n",
    "N = 10 # number of vertices\n",
    "MAX_COORDINATE = 100.0\n",
    "SEED = 0\n",
    "DECIMAL_PRECISION = 2"
   ]
  },
  {
   "cell_type": "markdown",
   "metadata": {},
   "source": [
    "Clear current problems (optional)"
   ]
  },
  {
   "cell_type": "code",
   "execution_count": 11,
   "metadata": {},
   "outputs": [
    {
     "name": "stdout",
     "output_type": "stream",
     "text": [
      "Cleared\n"
     ]
    }
   ],
   "source": [
    "clear_directory(PROBLEMS_PATH)"
   ]
  },
  {
   "cell_type": "markdown",
   "metadata": {},
   "source": [
    "Generate problems"
   ]
  },
  {
   "cell_type": "code",
   "execution_count": 12,
   "metadata": {},
   "outputs": [],
   "source": [
    "import tsplib95\n",
    "import random\n",
    "import os\n",
    "random.seed(SEED)\n",
    "\n",
    "def random_coord():\n",
    "\treturn round(random.random() * MAX_COORDINATE, DECIMAL_PRECISION)\n",
    "\n",
    "for i in range(1, NUM_PROBLEMS + 1):\n",
    "\tname = f'random{i}_{N}'\n",
    "\tproblem = tsplib95.models.StandardProblem(\n",
    "\t\tname=name,\n",
    "\t\ttype='TSP',\n",
    "\t\tdimension=N,\n",
    "\t\tedge_weight_type='EUC_2D',\n",
    "\t\tdisplay_data_type='COORD_DISPLAY',\n",
    "\t\tnode_coords={\n",
    "\t\t\tv: (random_coord(), random_coord())\n",
    "\t\t\tfor v in range(1, N + 1)\n",
    "\t\t}\n",
    "\t)\n",
    "\t# tsplib95's parsing is broken so we have to remove the EOF\n",
    "\t# or else when we load the problem again it might error\n",
    "\tunterminated_problem = problem.__str__()[:-3]\n",
    "\twith open(os.path.join(PROBLEMS_PATH, name + '.tsp'), 'w') as f:\n",
    "\t\tf.write(unterminated_problem)"
   ]
  }
 ],
 "metadata": {
  "kernelspec": {
   "display_name": "venv",
   "language": "python",
   "name": "python3"
  },
  "language_info": {
   "codemirror_mode": {
    "name": "ipython",
    "version": 3
   },
   "file_extension": ".py",
   "mimetype": "text/x-python",
   "name": "python",
   "nbconvert_exporter": "python",
   "pygments_lexer": "ipython3",
   "version": "3.10.7"
  }
 },
 "nbformat": 4,
 "nbformat_minor": 2
}
